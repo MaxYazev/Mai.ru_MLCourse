{
 "cells": [
  {
   "cell_type": "markdown",
   "metadata": {
    "id": "A5VtszsIQQ0u",
    "toc": true
   },
   "source": [
    "<h1>Table of Contents<span class=\"tocSkip\"></span></h1>\n",
    "<div class=\"toc\"><ul class=\"toc-item\"><li><span><a href=\"#Exploratory-Data-Analysis-and-Metric\" data-toc-modified-id=\"Exploratory-Data-Analysis-and-Metric-1\"><span class=\"toc-item-num\">1&nbsp;&nbsp;</span>Exploratory Data Analysis and Metric</a></span></li><li><span><a href=\"#Model\" data-toc-modified-id=\"Model-2\"><span class=\"toc-item-num\">2&nbsp;&nbsp;</span>Model</a></span></li><li><span><a href=\"#Submit\" data-toc-modified-id=\"Submit-3\"><span class=\"toc-item-num\">3&nbsp;&nbsp;</span>Submit</a></span></li><li><span><a href=\"#Homework\" data-toc-modified-id=\"Homework-4\"><span class=\"toc-item-num\">4&nbsp;&nbsp;</span>Homework</a></span></li></ul></div>"
   ]
  },
  {
   "cell_type": "markdown",
   "metadata": {
    "id": "MgZGO3DVQQ0-"
   },
   "source": [
    "# **[Kaggle InClass: Language Detection](https://www.kaggle.com/c/introml2020-3)**"
   ]
  },
  {
   "cell_type": "code",
   "execution_count": 1,
   "metadata": {
    "ExecuteTime": {
     "end_time": "2020-11-02T16:33:14.441587Z",
     "start_time": "2020-11-02T16:33:11.754975Z"
    },
    "id": "M6-KAvCLQQ0w"
   },
   "outputs": [
    {
     "name": "stderr",
     "output_type": "stream",
     "text": [
      "[nltk_data] Downloading package stopwords to\n",
      "[nltk_data]     C:\\Users\\myazev\\AppData\\Roaming\\nltk_data...\n",
      "[nltk_data]   Package stopwords is already up-to-date!\n",
      "[nltk_data] Downloading package wordnet to\n",
      "[nltk_data]     C:\\Users\\myazev\\AppData\\Roaming\\nltk_data...\n",
      "[nltk_data]   Package wordnet is already up-to-date!\n"
     ]
    }
   ],
   "source": [
    "import pandas as pd\n",
    "import matplotlib.pyplot as plt\n",
    "plt.style.use('ggplot')\n",
    "\n",
    "import os\n",
    "from sklearn.model_selection import train_test_split\n",
    "from sklearn.preprocessing  import LabelEncoder\n",
    "from sklearn.feature_extraction.text import TfidfVectorizer\n",
    "from sklearn.linear_model import SGDClassifier\n",
    "from sklearn.pipeline import Pipeline\n",
    "from sklearn.metrics import balanced_accuracy_score\n",
    "\n",
    "\n",
    "import re\n",
    "from collections import Counter\n",
    "from tqdm import tqdm_notebook\n",
    "import nltk\n",
    "nltk.download('stopwords')\n",
    "nltk.download('wordnet')\n",
    "import pymorphy2\n",
    "from nltk.stem import WordNetLemmatizer \n",
    "from nltk.corpus import stopwords\n",
    "\n",
    "import pandas as pd\n",
    "import numpy as np\n",
    "import matplotlib.pyplot as plt\n",
    "\n",
    "from sklearn.model_selection import StratifiedShuffleSplit\n",
    "from sklearn.feature_extraction.text import TfidfVectorizer, CountVectorizer\n",
    "from sklearn.preprocessing import normalize\n",
    "from sklearn.metrics.pairwise import cosine_similarity\n",
    "from sklearn.pipeline import Pipeline, FeatureUnion\n",
    "from sklearn.linear_model import LogisticRegression, SGDClassifier\n",
    "from sklearn.model_selection import train_test_split\n",
    "from sklearn.model_selection import GridSearchCV\n",
    "from sklearn.metrics import f1_score\n",
    "from sklearn.svm import SVC\n",
    "from sklearn.preprocessing import StandardScaler\n",
    "from xgboost import XGBClassifier \n",
    "from sklearn.ensemble import RandomForestClassifier, VotingClassifier, StackingClassifier\n",
    "import warnings\n",
    "warnings.filterwarnings(\"ignore\")"
   ]
  },
  {
   "cell_type": "code",
   "execution_count": 2,
   "metadata": {
    "ExecuteTime": {
     "end_time": "2020-11-02T16:33:18.562804Z",
     "start_time": "2020-11-02T16:33:18.560434Z"
    },
    "id": "A_4rZzybQQ02"
   },
   "outputs": [],
   "source": [
    "SEED = 42"
   ]
  },
  {
   "cell_type": "markdown",
   "metadata": {
    "ExecuteTime": {
     "end_time": "2020-10-30T12:22:00.913789Z",
     "start_time": "2020-10-30T12:22:00.909736Z"
    },
    "id": "zBiS1e01QQ0_"
   },
   "source": [
    "# Exploratory Data Analysis and Metric"
   ]
  },
  {
   "cell_type": "code",
   "execution_count": 3,
   "metadata": {
    "ExecuteTime": {
     "end_time": "2020-11-02T16:33:40.445765Z",
     "start_time": "2020-11-02T16:33:23.606453Z"
    },
    "id": "TBVvRx7iQQ1A"
   },
   "outputs": [],
   "source": [
    "train_df = pd.read_csv('train.csv')\n",
    "test_df = pd.read_csv('test.csv')"
   ]
  },
  {
   "cell_type": "code",
   "execution_count": 4,
   "metadata": {
    "ExecuteTime": {
     "end_time": "2020-11-02T16:33:43.169067Z",
     "start_time": "2020-11-02T16:33:43.164005Z"
    },
    "id": "-lLIvecdQQ1E"
   },
   "outputs": [
    {
     "data": {
      "text/plain": [
       "((3159633, 2), (2784634, 2))"
      ]
     },
     "execution_count": 4,
     "metadata": {},
     "output_type": "execute_result"
    }
   ],
   "source": [
    "train_df.shape, test_df.shape"
   ]
  },
  {
   "cell_type": "code",
   "execution_count": 5,
   "metadata": {},
   "outputs": [
    {
     "data": {
      "image/png": "[encoded data removed]",
      "text/plain": [
       "<Figure size 432x288 with 1 Axes>"
      ]
     },
     "metadata": {},
     "output_type": "display_data"
    }
   ],
   "source": [
    "train_df.sentence.str.len().hist(bins=200);"
   ]
  },
  {
   "cell_type": "code",
   "execution_count": 6,
   "metadata": {},
   "outputs": [],
   "source": [
    "train_df = train_df = train_df[(train_df.sentence.str.len() != 0)]"
   ]
  },
  {
   "cell_type": "code",
   "execution_count": 7,
   "metadata": {
    "ExecuteTime": {
     "end_time": "2020-11-02T16:33:44.060705Z",
     "start_time": "2020-11-02T16:33:44.047083Z"
    },
    "id": "CsslfV_1QQ1I"
   },
   "outputs": [
    {
     "data": {
      "text/html": [
       "<div>\n",
       "<style scoped>\n",
       "    .dataframe tbody tr th:only-of-type {\n",
       "        vertical-align: middle;\n",
       "    }\n",
       "\n",
       "    .dataframe tbody tr th {\n",
       "        vertical-align: top;\n",
       "    }\n",
       "\n",
       "    .dataframe thead th {\n",
       "        text-align: right;\n",
       "    }\n",
       "</style>\n",
       "<table border=\"1\" class=\"dataframe\">\n",
       "  <thead>\n",
       "    <tr style=\"text-align: right;\">\n",
       "      <th></th>\n",
       "      <th>sentence</th>\n",
       "      <th>language</th>\n",
       "    </tr>\n",
       "  </thead>\n",
       "  <tbody>\n",
       "    <tr>\n",
       "      <th>0</th>\n",
       "      <td>Pensez à la communication , le discours , les ...</td>\n",
       "      <td>fr</td>\n",
       "    </tr>\n",
       "    <tr>\n",
       "      <th>1</th>\n",
       "      <td>Můžete si ji pronajmout , vzít na splátky , ko...</td>\n",
       "      <td>cs</td>\n",
       "    </tr>\n",
       "    <tr>\n",
       "      <th>2</th>\n",
       "      <td>Každý starosta pochopil , že když mají tyto fo...</td>\n",
       "      <td>cs</td>\n",
       "    </tr>\n",
       "    <tr>\n",
       "      <th>3</th>\n",
       "      <td>Det är ytterligare bevis , men ändå — Jag krit...</td>\n",
       "      <td>sv</td>\n",
       "    </tr>\n",
       "    <tr>\n",
       "      <th>4</th>\n",
       "      <td>كان الأمر لا يصدق .</td>\n",
       "      <td>ar</td>\n",
       "    </tr>\n",
       "    <tr>\n",
       "      <th>5</th>\n",
       "      <td>Na primjer , pjesnik ga opisuje ovako .</td>\n",
       "      <td>hr</td>\n",
       "    </tr>\n",
       "    <tr>\n",
       "      <th>6</th>\n",
       "      <td>Semua rerumputan itu sekarang menutupi tanah s...</td>\n",
       "      <td>id</td>\n",
       "    </tr>\n",
       "    <tr>\n",
       "      <th>7</th>\n",
       "      <td>Det är en enorm utmaning för oss att göra det .</td>\n",
       "      <td>sv</td>\n",
       "    </tr>\n",
       "    <tr>\n",
       "      <th>8</th>\n",
       "      <td>Ono što ćete vidjeti - trebat ćete skočiti ovd...</td>\n",
       "      <td>hr</td>\n",
       "    </tr>\n",
       "    <tr>\n",
       "      <th>9</th>\n",
       "      <td>( Alqışlar ) Excel-dən istifadə etmişəm .</td>\n",
       "      <td>az</td>\n",
       "    </tr>\n",
       "    <tr>\n",
       "      <th>10</th>\n",
       "      <td>После увольнения я решил собрать своих друзей ...</td>\n",
       "      <td>ru</td>\n",
       "    </tr>\n",
       "    <tr>\n",
       "      <th>11</th>\n",
       "      <td>יכולתי בקלות למצוא את עצמי שם או ברחוב .</td>\n",
       "      <td>he</td>\n",
       "    </tr>\n",
       "    <tr>\n",
       "      <th>12</th>\n",
       "      <td>この過去の遺産と決別することが これまで以上に急務です 互いを深く隔てる社会的不平等を終わら...</td>\n",
       "      <td>ja</td>\n",
       "    </tr>\n",
       "    <tr>\n",
       "      <th>13</th>\n",
       "      <td>Ты знаешь , что это не гнев заставил моё сердц...</td>\n",
       "      <td>ru</td>\n",
       "    </tr>\n",
       "    <tr>\n",
       "      <th>14</th>\n",
       "      <td>Wie gehen wir so etwas also an ?</td>\n",
       "      <td>de</td>\n",
       "    </tr>\n",
       "    <tr>\n",
       "      <th>15</th>\n",
       "      <td>Niet anders dan wanneer een hond begint te bla...</td>\n",
       "      <td>nl</td>\n",
       "    </tr>\n",
       "    <tr>\n",
       "      <th>16</th>\n",
       "      <td>فكان مصيرهم الفعلي بإنتهاء العصر الحديدي لمجتم...</td>\n",
       "      <td>ar</td>\n",
       "    </tr>\n",
       "    <tr>\n",
       "      <th>17</th>\n",
       "      <td>Och nu så är det ryckt bort från under en .</td>\n",
       "      <td>sv</td>\n",
       "    </tr>\n",
       "    <tr>\n",
       "      <th>18</th>\n",
       "      <td>所以在一大清早 ， 太陽剛剛升起的時候去找他</td>\n",
       "      <td>zh-tw</td>\n",
       "    </tr>\n",
       "    <tr>\n",
       "      <th>19</th>\n",
       "      <td>最後到達了一所 魚龍混雜的學校 。</td>\n",
       "      <td>zh-tw</td>\n",
       "    </tr>\n",
       "    <tr>\n",
       "      <th>20</th>\n",
       "      <td>그래서 제가 실험삼아 죽은 파리 머리에서</td>\n",
       "      <td>ko</td>\n",
       "    </tr>\n",
       "    <tr>\n",
       "      <th>21</th>\n",
       "      <td>私たちはいろいろなものを感覚で受け取っています 好き 嫌い ワクワクする 恐ろしいなどが混ざ...</td>\n",
       "      <td>ja</td>\n",
       "    </tr>\n",
       "    <tr>\n",
       "      <th>22</th>\n",
       "      <td>Lavoro molto . Veramente molto .</td>\n",
       "      <td>it</td>\n",
       "    </tr>\n",
       "    <tr>\n",
       "      <th>23</th>\n",
       "      <td>Gondolj a Yin és Yangre !</td>\n",
       "      <td>hu</td>\n",
       "    </tr>\n",
       "    <tr>\n",
       "      <th>24</th>\n",
       "      <td>Our Fred Astaires , our Gene Kellys our Michae...</td>\n",
       "      <td>en</td>\n",
       "    </tr>\n",
       "    <tr>\n",
       "      <th>25</th>\n",
       "      <td>Hewlett Packard stellte die Nocken her .</td>\n",
       "      <td>de</td>\n",
       "    </tr>\n",
       "    <tr>\n",
       "      <th>26</th>\n",
       "      <td>гэта што калі мы не яны як але ён каб дзякуй б...</td>\n",
       "      <td>ru</td>\n",
       "    </tr>\n",
       "    <tr>\n",
       "      <th>27</th>\n",
       "      <td>اونجا تعدادی سخنران دارند . من فکر می کنم اونه...</td>\n",
       "      <td>fa</td>\n",
       "    </tr>\n",
       "    <tr>\n",
       "      <th>28</th>\n",
       "      <td>Nhiều lúc có một lượng thông tin khổng lồ .</td>\n",
       "      <td>vi</td>\n",
       "    </tr>\n",
       "    <tr>\n",
       "      <th>29</th>\n",
       "      <td>وبسبب الحرارة ، كنت قد نزعت حذائي ، وطويت أطرا...</td>\n",
       "      <td>ar</td>\n",
       "    </tr>\n",
       "    <tr>\n",
       "      <th>30</th>\n",
       "      <td>Просто има толкова много други хора в пъпа ти ...</td>\n",
       "      <td>bg</td>\n",
       "    </tr>\n",
       "    <tr>\n",
       "      <th>31</th>\n",
       "      <td>Allora , perfino una riduzione di un punto per...</td>\n",
       "      <td>it</td>\n",
       "    </tr>\n",
       "    <tr>\n",
       "      <th>32</th>\n",
       "      <td>แล ้ วแนวทางใหม ่ ของการบริการทางสุขภาพนี ้ ที...</td>\n",
       "      <td>th</td>\n",
       "    </tr>\n",
       "    <tr>\n",
       "      <th>33</th>\n",
       "      <td>再从0.1到0.2秒 越到后来越痒</td>\n",
       "      <td>zh-cn</td>\n",
       "    </tr>\n",
       "    <tr>\n",
       "      <th>34</th>\n",
       "      <td>бұл мен біз бір үшін ол деп және емес бар кере...</td>\n",
       "      <td>ku</td>\n",
       "    </tr>\n",
       "    <tr>\n",
       "      <th>35</th>\n",
       "      <td>Il futuro è di per sé incerto .</td>\n",
       "      <td>it</td>\n",
       "    </tr>\n",
       "    <tr>\n",
       "      <th>36</th>\n",
       "      <td>会有离散堵塞或着狭窄症 。</td>\n",
       "      <td>zh-cn</td>\n",
       "    </tr>\n",
       "    <tr>\n",
       "      <th>37</th>\n",
       "      <td>Basit zevk ve eğlence ile başlayan birçok tecr...</td>\n",
       "      <td>tr</td>\n",
       "    </tr>\n",
       "    <tr>\n",
       "      <th>38</th>\n",
       "      <td>Είναι η μοναδική ασύμμετρη έκφραση .</td>\n",
       "      <td>el</td>\n",
       "    </tr>\n",
       "    <tr>\n",
       "      <th>39</th>\n",
       "      <td>Det finnes et tidsskrift som heter alle disse ...</td>\n",
       "      <td>nb</td>\n",
       "    </tr>\n",
       "    <tr>\n",
       "      <th>40</th>\n",
       "      <td>Ради всех имён , которые я никогда не узнаю , ...</td>\n",
       "      <td>ru</td>\n",
       "    </tr>\n",
       "    <tr>\n",
       "      <th>41</th>\n",
       "      <td>Và chúng ta gọi đó là thực tế ảo , nhưng điều ...</td>\n",
       "      <td>vi</td>\n",
       "    </tr>\n",
       "    <tr>\n",
       "      <th>42</th>\n",
       "      <td>Đây là câu chuyện có thật , chuyện riêng của t...</td>\n",
       "      <td>vi</td>\n",
       "    </tr>\n",
       "    <tr>\n",
       "      <th>43</th>\n",
       "      <td>Si todos sus autos robots están rastreando las...</td>\n",
       "      <td>es</td>\n",
       "    </tr>\n",
       "    <tr>\n",
       "      <th>44</th>\n",
       "      <td>Y eso tiene sentido .</td>\n",
       "      <td>es</td>\n",
       "    </tr>\n",
       "    <tr>\n",
       "      <th>45</th>\n",
       "      <td>Le point GPS va fondamentalement changer vos v...</td>\n",
       "      <td>fr</td>\n",
       "    </tr>\n",
       "    <tr>\n",
       "      <th>46</th>\n",
       "      <td>E sono diventata un&amp;apos; insegnante .</td>\n",
       "      <td>it</td>\n",
       "    </tr>\n",
       "    <tr>\n",
       "      <th>47</th>\n",
       "      <td>nhưng một sự cố xảy ra một hồi năm kia đã cho ...</td>\n",
       "      <td>vi</td>\n",
       "    </tr>\n",
       "    <tr>\n",
       "      <th>48</th>\n",
       "      <td>ดิฉันคิดถึง โจ ดาร ์ บี ้ ( Joe Darby )</td>\n",
       "      <td>th</td>\n",
       "    </tr>\n",
       "    <tr>\n",
       "      <th>49</th>\n",
       "      <td>我第一次接觸到在市面上販賣的庫茨魏爾的機器 ， 是在 1989 年 3月時 ， 當時我震撼不...</td>\n",
       "      <td>zh-tw</td>\n",
       "    </tr>\n",
       "    <tr>\n",
       "      <th>50</th>\n",
       "      <td>Zaczęła szyć .</td>\n",
       "      <td>pl</td>\n",
       "    </tr>\n",
       "    <tr>\n",
       "      <th>51</th>\n",
       "      <td>що це ми не як на вони та але ви до про він оп...</td>\n",
       "      <td>et</td>\n",
       "    </tr>\n",
       "    <tr>\n",
       "      <th>52</th>\n",
       "      <td>Şi deasemenea lucrul cu firele — tot ce făceam...</td>\n",
       "      <td>ro</td>\n",
       "    </tr>\n",
       "    <tr>\n",
       "      <th>53</th>\n",
       "      <td>Ik stak er al mijn energie , ervaring en truke...</td>\n",
       "      <td>nl</td>\n",
       "    </tr>\n",
       "    <tr>\n",
       "      <th>54</th>\n",
       "      <td>זהו האדם שהגיע לירח .</td>\n",
       "      <td>he</td>\n",
       "    </tr>\n",
       "    <tr>\n",
       "      <th>55</th>\n",
       "      <td>Dan harga minyak yang lebih tinggi berarti ins...</td>\n",
       "      <td>id</td>\n",
       "    </tr>\n",
       "    <tr>\n",
       "      <th>56</th>\n",
       "      <td>Ali neke zemlje imaju čvršći stav o ovome od o...</td>\n",
       "      <td>sr</td>\n",
       "    </tr>\n",
       "    <tr>\n",
       "      <th>57</th>\n",
       "      <td>اگر واقعا بخواهیم این را بفهمیم ، نیاز به فناو...</td>\n",
       "      <td>fa</td>\n",
       "    </tr>\n",
       "    <tr>\n",
       "      <th>58</th>\n",
       "      <td>（ 笑 ） だから私達は成長しなくなったのです</td>\n",
       "      <td>ja</td>\n",
       "    </tr>\n",
       "    <tr>\n",
       "      <th>59</th>\n",
       "      <td>นั ่ นคือความสุข มันสว ่ างขึ ้ นมา</td>\n",
       "      <td>th</td>\n",
       "    </tr>\n",
       "  </tbody>\n",
       "</table>\n",
       "</div>"
      ],
      "text/plain": [
       "                                             sentence language\n",
       "0   Pensez à la communication , le discours , les ...       fr\n",
       "1   Můžete si ji pronajmout , vzít na splátky , ko...       cs\n",
       "2   Každý starosta pochopil , že když mají tyto fo...       cs\n",
       "3   Det är ytterligare bevis , men ändå — Jag krit...       sv\n",
       "4                                 كان الأمر لا يصدق .       ar\n",
       "5             Na primjer , pjesnik ga opisuje ovako .       hr\n",
       "6   Semua rerumputan itu sekarang menutupi tanah s...       id\n",
       "7     Det är en enorm utmaning för oss att göra det .       sv\n",
       "8   Ono što ćete vidjeti - trebat ćete skočiti ovd...       hr\n",
       "9           ( Alqışlar ) Excel-dən istifadə etmişəm .       az\n",
       "10  После увольнения я решил собрать своих друзей ...       ru\n",
       "11           יכולתי בקלות למצוא את עצמי שם או ברחוב .       he\n",
       "12  この過去の遺産と決別することが これまで以上に急務です 互いを深く隔てる社会的不平等を終わら...       ja\n",
       "13  Ты знаешь , что это не гнев заставил моё сердц...       ru\n",
       "14                   Wie gehen wir so etwas also an ?       de\n",
       "15  Niet anders dan wanneer een hond begint te bla...       nl\n",
       "16  فكان مصيرهم الفعلي بإنتهاء العصر الحديدي لمجتم...       ar\n",
       "17        Och nu så är det ryckt bort från under en .       sv\n",
       "18                             所以在一大清早 ， 太陽剛剛升起的時候去找他    zh-tw\n",
       "19                                  最後到達了一所 魚龍混雜的學校 。    zh-tw\n",
       "20                             그래서 제가 실험삼아 죽은 파리 머리에서       ko\n",
       "21  私たちはいろいろなものを感覚で受け取っています 好き 嫌い ワクワクする 恐ろしいなどが混ざ...       ja\n",
       "22                   Lavoro molto . Veramente molto .       it\n",
       "23                          Gondolj a Yin és Yangre !       hu\n",
       "24  Our Fred Astaires , our Gene Kellys our Michae...       en\n",
       "25           Hewlett Packard stellte die Nocken her .       de\n",
       "26  гэта што калі мы не яны як але ён каб дзякуй б...       ru\n",
       "27  اونجا تعدادی سخنران دارند . من فکر می کنم اونه...       fa\n",
       "28        Nhiều lúc có một lượng thông tin khổng lồ .       vi\n",
       "29  وبسبب الحرارة ، كنت قد نزعت حذائي ، وطويت أطرا...       ar\n",
       "30  Просто има толкова много други хора в пъпа ти ...       bg\n",
       "31  Allora , perfino una riduzione di un punto per...       it\n",
       "32  แล ้ วแนวทางใหม ่ ของการบริการทางสุขภาพนี ้ ที...       th\n",
       "33                                  再从0.1到0.2秒 越到后来越痒    zh-cn\n",
       "34  бұл мен біз бір үшін ол деп және емес бар кере...       ku\n",
       "35                    Il futuro è di per sé incerto .       it\n",
       "36                                      会有离散堵塞或着狭窄症 。    zh-cn\n",
       "37  Basit zevk ve eğlence ile başlayan birçok tecr...       tr\n",
       "38               Είναι η μοναδική ασύμμετρη έκφραση .       el\n",
       "39  Det finnes et tidsskrift som heter alle disse ...       nb\n",
       "40  Ради всех имён , которые я никогда не узнаю , ...       ru\n",
       "41  Và chúng ta gọi đó là thực tế ảo , nhưng điều ...       vi\n",
       "42  Đây là câu chuyện có thật , chuyện riêng của t...       vi\n",
       "43  Si todos sus autos robots están rastreando las...       es\n",
       "44                              Y eso tiene sentido .       es\n",
       "45  Le point GPS va fondamentalement changer vos v...       fr\n",
       "46             E sono diventata un&apos; insegnante .       it\n",
       "47  nhưng một sự cố xảy ra một hồi năm kia đã cho ...       vi\n",
       "48            ดิฉันคิดถึง โจ ดาร ์ บี ้ ( Joe Darby )       th\n",
       "49  我第一次接觸到在市面上販賣的庫茨魏爾的機器 ， 是在 1989 年 3月時 ， 當時我震撼不...    zh-tw\n",
       "50                                     Zaczęła szyć .       pl\n",
       "51  що це ми не як на вони та але ви до про він оп...       et\n",
       "52  Şi deasemenea lucrul cu firele — tot ce făceam...       ro\n",
       "53  Ik stak er al mijn energie , ervaring en truke...       nl\n",
       "54                              זהו האדם שהגיע לירח .       he\n",
       "55  Dan harga minyak yang lebih tinggi berarti ins...       id\n",
       "56  Ali neke zemlje imaju čvršći stav o ovome od o...       sr\n",
       "57  اگر واقعا بخواهیم این را بفهمیم ، نیاز به فناو...       fa\n",
       "58                            （ 笑 ） だから私達は成長しなくなったのです       ja\n",
       "59                นั ่ นคือความสุข มันสว ่ างขึ ้ นมา       th"
      ]
     },
     "execution_count": 7,
     "metadata": {},
     "output_type": "execute_result"
    }
   ],
   "source": [
    "train_df.head(60)"
   ]
  },
  {
   "cell_type": "code",
   "execution_count": 8,
   "metadata": {},
   "outputs": [],
   "source": [
    "def preprocessor(text):\n",
    "    return re.sub(r\"\\b[A-Z]{2,3}\\b\", \"\", text)"
   ]
  },
  {
   "cell_type": "code",
   "execution_count": 9,
   "metadata": {
    "scrolled": true
   },
   "outputs": [],
   "source": [
    "def preprocessor0(text):\n",
    "    return ' '.join([string.strip().lower() for string in re.sub(r'[0-9]', ' ', text).split()])\n",
    "def preprocessor1(text):\n",
    "    return ' '.join([string.strip().lower() for string in re.sub(r'[^\\w]', ' ', text).split()])\n",
    "\n",
    "def preprocessor2(text):\n",
    "    return ' '.join([string.strip().lower() for string in re.sub(r'(quot)', ' ', text).split()])\n",
    "\n",
    "def preprocessor3(text):\n",
    "    return ' '.join([string.strip().lower() for string in re.sub(r'(apos)', ' ', text).split()])\n",
    "\n",
    "def preprocessor4(text):\n",
    "    return ' '.join([string.strip().lower() for string in re.sub(r'(&lt)', ' ', text).split()])\n",
    "                     \n",
    "def preprocessor5(text):\n",
    "    return ' '.join([string.strip().lower() for string in re.sub(r'(&gt)', ' ', text).split()])\n",
    "\n",
    "def preprocessor6(text):\n",
    "    return ' '.join([string.strip().lower() for string in re.sub(r'(&gt)', ' ', text).split()])\n",
    "def preprocessor7(text):\n",
    "    return ' '.join([string.strip().lower() for string in re.sub(r'(&quot)', ' ', text).split()]) "
   ]
  },
  {
   "cell_type": "code",
   "execution_count": null,
   "metadata": {},
   "outputs": [],
   "source": [
    "train_df['sentence'] = train_df['sentence'].apply(preprocessor)\n",
    "train_df['sentence'] = train_df['sentence'].apply(preprocessor7)\n",
    "train_df['sentence'] = train_df['sentence'].apply(preprocessor6)\n",
    "train_df['sentence'] = train_df['sentence'].apply(preprocessor5)\n",
    "train_df['sentence'] = train_df['sentence'].apply(preprocessor4)\n",
    "train_df['sentence'] = train_df['sentence'].apply(preprocessor3)\n",
    "train_df['sentence'] = train_df['sentence'].apply(preprocessor2)\n",
    "train_df['sentence'] = train_df['sentence'].apply(preprocessor1)\n",
    "train_df['sentence'] = train_df['sentence'].apply(preprocessor0)"
   ]
  },
  {
   "cell_type": "code",
   "execution_count": null,
   "metadata": {},
   "outputs": [],
   "source": [
    "test_df['sentence'] = test_df['sentence'].apply(preprocessor)\n",
    "test_df['sentence'] = test_df['sentence'].apply(preprocessor7)\n",
    "test_df['sentence'] = test_df['sentence'].apply(preprocessor6)\n",
    "test_df['sentence'] = test_df['sentence'].apply(preprocessor5)\n",
    "test_df['sentence'] = test_df['sentence'].apply(preprocessor4)\n",
    "test_df['sentence'] = test_df['sentence'].apply(preprocessor3)\n",
    "test_df['sentence'] = test_df['sentence'].apply(preprocessor2)\n",
    "test_df['sentence'] = test_df['sentence'].apply(preprocessor1)\n",
    "test_df['sentence'] = test_df['sentence'].apply(preprocessor0)"
   ]
  },
  {
   "cell_type": "code",
   "execution_count": null,
   "metadata": {},
   "outputs": [],
   "source": [
    "train_df.loc[49].sentence"
   ]
  },
  {
   "cell_type": "code",
   "execution_count": null,
   "metadata": {},
   "outputs": [],
   "source": [
    "train_df['language'].unique()"
   ]
  },
  {
   "cell_type": "code",
   "execution_count": null,
   "metadata": {},
   "outputs": [],
   "source": [
    "not_eng = ['zh-cn', 'ku', 'el', 'uk', 'ka', 'ta', 'zh', 'my', 'ar', 'he', 'ja', 'zh-tw', 'ko', 'fa', 'bg', 'th', 'mn', 'mk', 'hy', 'hi', 'bn', 'mr', 'be', 'ur', 'kk']"
   ]
  },
  {
   "cell_type": "code",
   "execution_count": null,
   "metadata": {},
   "outputs": [],
   "source": [
    "def drop_eng_symb(text):\n",
    "    return re.sub(\"[a-z]+\", \"\", text)\n",
    "    \n",
    "for lang in not_eng:\n",
    "    train_df.loc[train_df['language'] == lang, 'sentence'] = train_df[train_df.language == lang].sentence.apply(drop_eng_symb)"
   ]
  },
  {
   "cell_type": "code",
   "execution_count": null,
   "metadata": {},
   "outputs": [],
   "source": [
    "train_df.head(60)"
   ]
  },
  {
   "cell_type": "code",
   "execution_count": null,
   "metadata": {},
   "outputs": [],
   "source": [
    "def tokenize(text):\n",
    "    return re.findall('\\w+', text.lower())"
   ]
  },
  {
   "cell_type": "code",
   "execution_count": null,
   "metadata": {
    "ExecuteTime": {
     "end_time": "2020-11-02T16:34:28.973940Z",
     "start_time": "2020-11-02T16:34:26.730083Z"
    },
    "id": "9JyLj-95QQ1d"
   },
   "outputs": [],
   "source": [
    "label_encoder = LabelEncoder()\n",
    "label_encoder.fit(train_df['language'])"
   ]
  },
  {
   "cell_type": "code",
   "execution_count": null,
   "metadata": {},
   "outputs": [],
   "source": [
    "X = train_df['sentence'].values\n",
    "y = label_encoder.transform(train_df['language'])\n",
    "y"
   ]
  },
  {
   "cell_type": "code",
   "execution_count": null,
   "metadata": {},
   "outputs": [],
   "source": [
    "from sklearn.base import TransformerMixin\n",
    "\n",
    "\n",
    "class ColumnExtractor(TransformerMixin):\n",
    "    \n",
    "    def __init__(self, column_name):\n",
    "        self.column_name = column_name\n",
    "    \n",
    "    def fit(self, X, y=None):\n",
    "        return self\n",
    "    \n",
    "    def transform(self, X, y=None):\n",
    "        return X[self.column_name].values"
   ]
  },
  {
   "cell_type": "code",
   "execution_count": null,
   "metadata": {},
   "outputs": [],
   "source": [
    "stopword_set = []\n",
    "#for lang in stopwords.fileids():\n",
    " #   stopword_set += nltk.corpus.stopwords.words(lang)\n",
    "stopword_set = set(stopword_set + ['ted', 'google', 'youtube', 'twitter', 'nasa', 'internet', 'facebook'])"
   ]
  },
  {
   "cell_type": "code",
   "execution_count": null,
   "metadata": {},
   "outputs": [],
   "source": [
    "clf1 = LogisticRegression(multi_class='multinomial', class_weight='balanced', max_iter=1000, penalty='l2',\\\n",
    "                          solver='saga', n_jobs=-1)\n",
    "clf2 = RandomForestClassifier(n_estimators=250, max_depth=15, max_features='sqrt', class_weight='balanced',\\\n",
    "                              max_samples=0.6, n_jobs=-1)\n",
    "clf3 = SGDClassifier(loss='log', class_weight='balanced', n_jobs=-1)\n",
    "estimators = [\n",
    "    ('rf', clf2),\n",
    "    ('svc', clf3)\n",
    "]"
   ]
  },
  {
   "cell_type": "code",
   "execution_count": null,
   "metadata": {},
   "outputs": [],
   "source": [
    "pipeline = Pipeline([\n",
    "    ('features', \n",
    "        FeatureUnion([\n",
    "            #('vectorizer1', \n",
    "             #           TfidfVectorizer(\n",
    "              #           lowercase=False, ngram_range=(1, 3),\n",
    "               #            min_df=3, max_df=0.6,\n",
    "                #            stop_words=stopword_set, token_pattern='\\w+'\n",
    "                 #       )),\n",
    "            ('vectorizer2', \n",
    "                        CountVectorizer(\n",
    "                            lowercase=False, ngram_range=(1, 4), analyzer='char',\n",
    "                            stop_words=stopword_set\n",
    "                        ))])),\n",
    "    \n",
    "    #('scaler', StandardScaler(with_mean=False)),\n",
    "    #('clf', clf3)\n",
    "    ('clf', StackingClassifier(estimators=estimators, final_estimator=clf3, cv=3, stack_method='predict_proba',\\\n",
    "                              n_jobs=-1, passthrough=True)) \n",
    "])"
   ]
  },
  {
   "cell_type": "code",
   "execution_count": null,
   "metadata": {},
   "outputs": [],
   "source": [
    "X_train, X_test, y_train, y_test = train_test_split(train_df['sentence'].values, y, test_size=0.2, random_state=SEED)"
   ]
  },
  {
   "cell_type": "code",
   "execution_count": null,
   "metadata": {},
   "outputs": [],
   "source": [
    "%%time\n",
    "pipeline.fit(X_train, y_train)\n",
    "predictions_train = pipeline.predict(X_train)\n",
    "predictions_test = pipeline.predict(X_test)\n",
    "balanced_accuracy_score(y_train, predictions_train), balanced_accuracy_score(y_test, predictions_test) "
   ]
  },
  {
   "cell_type": "code",
   "execution_count": null,
   "metadata": {},
   "outputs": [],
   "source": [
    "submit_predictions = pipeline.predict(test_df.sentence.values)"
   ]
  },
  {
   "cell_type": "code",
   "execution_count": null,
   "metadata": {},
   "outputs": [],
   "source": [
    "test_df['language'] = label_encoder.classes_[submit_predictions]\n",
    "\n",
    "test_df.head()"
   ]
  },
  {
   "cell_type": "code",
   "execution_count": null,
   "metadata": {},
   "outputs": [],
   "source": [
    "test_df[['index',  'language']].to_csv('submission5.csv', index=False)"
   ]
  },
  {
   "cell_type": "code",
   "execution_count": null,
   "metadata": {},
   "outputs": [],
   "source": []
  }
 ],
 "metadata": {
  "colab": {
   "name": "language_detection.ipynb",
   "provenance": []
  },
  "kernelspec": {
   "display_name": "Python 3",
   "language": "python",
   "name": "python3"
  },
  "language_info": {
   "codemirror_mode": {
    "name": "ipython",
    "version": 3
   },
   "file_extension": ".py",
   "mimetype": "text/x-python",
   "name": "python",
   "nbconvert_exporter": "python",
   "pygments_lexer": "ipython3",
   "version": "3.8.3"
  },
  "toc": {
   "base_numbering": 1,
   "nav_menu": {},
   "number_sections": true,
   "sideBar": true,
   "skip_h1_title": false,
   "title_cell": "Table of Contents",
   "title_sidebar": "Contents",
   "toc_cell": true,
   "toc_position": {},
   "toc_section_display": true,
   "toc_window_display": false
  }
 },
 "nbformat": 4,
 "nbformat_minor": 1
}
